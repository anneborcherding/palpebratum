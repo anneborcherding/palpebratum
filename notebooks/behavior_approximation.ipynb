{
 "cells": [
  {
   "metadata": {},
   "cell_type": "markdown",
   "source": [
    "# Behavior Approximation\n",
    "\n",
    "This notebook helps to process and visualize the HMM-based behavior approximation and interestingness assessment (see Section VI of the paper). "
   ],
   "id": "14af2e56b6c5f58d"
  },
  {
   "metadata": {},
   "cell_type": "markdown",
   "source": [
    "<div class=\"alert alert-block alert-warning\">\n",
    "<b>NOTE:</b> Before running this notebook, make sure to download the raw experimental data from [here](http://dx.doi.org/10.24406/fordatis/391)\n",
    "</div>"
   ],
   "id": "aa9461ee8fc5deb6"
  },
  {
   "cell_type": "code",
   "id": "initial_id",
   "metadata": {
    "collapsed": true
   },
   "source": [
    "import csv\n",
    "import pandas as pd\n",
    "import matplotlib.pyplot as plt\n",
    "import seaborn as sns\n",
    "import numpy as np"
   ],
   "outputs": [],
   "execution_count": null
  },
  {
   "metadata": {},
   "cell_type": "code",
   "source": [
    "# We used an autoencoder (AE), the convolutional autoencoder presented by Chiu et al. (Chiu / CAPC), and a principal component analysis (PCA)\n",
    "PREPROCESSORS = [\"ae\", \"chiu\", \"pca\"]\n",
    "\n",
    "# location of the .csv files\n",
    "INTERESTINGESS_CSV_PATHS = [f'../evaluation_data/hmms/interestingness_assessment/interestingness_evaluation_{preprocessor}.csv' for preprocessor in PREPROCESSORS]\n",
    "NORMALIZED_COVERAGE_CSV_PATH = \"../evaluation_data/hmms/coverage/normalized_hmm_aflnwe_coverage.csv\"\n",
    "NODE_NORMALIZED_COVERAGE_CSV_PATH = \"../evaluation_data/hmms/coverage/node_normalized_hmm_coverage.csv\""
   ],
   "id": "125f409e628c831a",
   "outputs": [],
   "execution_count": null
  },
  {
   "metadata": {},
   "cell_type": "markdown",
   "source": [
    "## Interestingness Assessment\n",
    "\n",
    "First, we visualize the number of test cases deemed interesting by the different HMMs and AFLnwe. See Section VI.B in the paper for information on how we collected the experimental data."
   ],
   "id": "4115f6684f54e197"
  },
  {
   "metadata": {},
   "cell_type": "code",
   "source": [
    "for i, preprocessor in enumerate(PREPROCESSORS):\n",
    "    df = pd.read_csv(INTERESTINGESS_CSV_PATHS[i])\n",
    "\n",
    "    afl_col = \"AFL\"\n",
    "\n",
    "    hmm_cols = [col for col in df.columns if \"hmm\" in col]\n",
    "\n",
    "    test_case_distributions = {col: df.index[df[col] == 1].tolist() for col in hmm_cols}\n",
    "\n",
    "    boxplot_stats = {}\n",
    "\n",
    "    for col, values in test_case_distributions.items():\n",
    "        if len(values) == 0:\n",
    "            continue\n",
    "\n",
    "        values = np.array(values)\n",
    "        Q1 = np.percentile(values, 25)\n",
    "        Q2 = np.median(values)\n",
    "        Q3 = np.percentile(values, 75)\n",
    "        IQR = Q3 - Q1\n",
    "        lower_whisker = np.min(values[values >= Q1 - 1.5 * IQR])\n",
    "        upper_whisker = np.max(values[values <= Q3 + 1.5 * IQR])\n",
    "\n",
    "        boxplot_stats[col] = {\n",
    "            \"Q1\": Q1,\n",
    "            \"Median (Q2)\": Q2,\n",
    "            \"Q3\": Q3,\n",
    "            \"IQR\": IQR,\n",
    "            \"Lower Whisker\": lower_whisker,\n",
    "            \"Upper Whisker\": upper_whisker\n",
    "        }\n",
    "\n",
    "    distribution_df = pd.DataFrame(dict([(col, pd.Series(vals)) for col, vals in test_case_distributions.items()]))\n",
    "\n",
    "    fig, ax = plt.subplots(figsize=(8, 4))\n",
    "\n",
    "    sns.boxplot(data=distribution_df, orient=\"h\", palette=\"Purples\", ax=ax, showfliers=False)\n",
    "\n",
    "    for i, col in enumerate(hmm_cols):\n",
    "        overlap = df.index[(df[afl_col] == 1) & (df[col] == 1)]  # Get indices where AFL and HMM agree\n",
    "        ax.scatter(overlap, [i] * len(overlap), color=\"darkblue\", zorder=3, label=\"AFL & HMM\" if i == 0 else \"\")\n",
    "\n",
    "    # Log scale and labels\n",
    "    # ax.set_xscale(\"log\")\n",
    "    ax.set_xlabel(\"Test Cases\", fontsize=12)\n",
    "    ax.set_yticks(range(len(hmm_cols)))\n",
    "    ax.set_yticklabels(hmm_cols[::-1], fontsize=12)\n",
    "    plt.show()"
   ],
   "id": "4bc2e57b8892927d",
   "outputs": [],
   "execution_count": null
  },
  {
   "metadata": {},
   "cell_type": "markdown",
   "source": "",
   "id": "359ae4c16185098e"
  },
  {
   "metadata": {},
   "cell_type": "markdown",
   "source": [
    "## Coverage\n",
    "\n",
    "Next, we visualize the coverage the different approaches achieved. We show the coverage (1) normalized to the interval [0,1], and (2) normalized to the number of nodes in the HMM, thus showing relative coverage information."
   ],
   "id": "984ae0eadc018dc9"
  },
  {
   "metadata": {},
   "cell_type": "code",
   "source": [
    "df = pd.read_csv(NORMALIZED_COVERAGE_CSV_PATH)\n",
    "\n",
    "plt.figure(figsize=(10, 5))\n",
    "for column in df.columns[1:]:\n",
    "    plt.plot(df['index'], df[column], marker='', label=column)\n",
    "\n",
    "plt.xlabel('Test Cases')\n",
    "plt.ylabel('Normalized Coverage')\n",
    "plt.title('Coverage normalized to [0,1]')\n",
    "plt.legend([\"HMM_PCA_51\", \"HMM_CAPC_51\", \"HMM_AE_51\", \"AFLNwe\"])\n",
    "plt.grid()\n",
    "plt.show()"
   ],
   "id": "87eed038f846e1e7",
   "outputs": [],
   "execution_count": null
  },
  {
   "metadata": {},
   "cell_type": "code",
   "source": [
    "\n",
    "df = pd.read_csv(NODE_NORMALIZED_COVERAGE_CSV_PATH)\n",
    "\n",
    "fig, axes = plt.subplots(1, 3, figsize=(15, 5), sharey=True)\n",
    "numbers = [\"7\", \"18\", \"27\", \"38\", \"51\"]\n",
    "\n",
    "# Plot CHIU data\n",
    "chiu_columns = [col for col in df.columns if \"chiu\" in col]\n",
    "for number in numbers:\n",
    "    for col in chiu_columns:\n",
    "        if \"_\" + number in col:\n",
    "            axes[2].plot(df['index'], df[col], marker='', label=col)\n",
    "axes[2].set_title(\"CAPC\")\n",
    "axes[2].set_xlabel(\"Test Cases\")\n",
    "axes[2].grid()\n",
    "\n",
    "# Plot PCA data\n",
    "pca_columns = [col for col in df.columns if \"pca\" in col]\n",
    "for number in numbers:\n",
    "    for col in pca_columns:\n",
    "        if \"_\" + number in col:\n",
    "            axes[0].plot(df['index'], df[col], marker='', label=col)\n",
    "axes[0].set_title(\"PCA\")\n",
    "axes[0].legend(numbers, loc=(0,-0.3), ncol=len(numbers))\n",
    "axes[0].set_xlabel(\"Test Cases\")\n",
    "axes[0].set_ylabel(\"Normalized HMM Coverage\")\n",
    "axes[0].grid()\n",
    "\n",
    "# Plot AE data\n",
    "ae_columns = [col for col in df.columns if \"ae\" in col]\n",
    "for number in numbers:\n",
    "    for col in ae_columns:\n",
    "        if \"_\" + number in col:\n",
    "            axes[1].plot(df['index'], df[col], marker='', label=col)\n",
    "axes[1].set_title(\"AE\")\n",
    "axes[1].set_xlabel(\"Test Cases\")\n",
    "axes[1].grid()\n",
    "\n",
    "fig.suptitle('HMM coverage normalized to the number of nodes')\n",
    "plt.tight_layout()\n",
    "plt.show()"
   ],
   "id": "e500b08392999703",
   "outputs": [],
   "execution_count": null
  },
  {
   "metadata": {},
   "cell_type": "code",
   "source": "",
   "id": "b3ade63e57b2f807",
   "outputs": [],
   "execution_count": null
  }
 ],
 "metadata": {
  "kernelspec": {
   "display_name": "Python 3",
   "language": "python",
   "name": "python3"
  },
  "language_info": {
   "codemirror_mode": {
    "name": "ipython",
    "version": 2
   },
   "file_extension": ".py",
   "mimetype": "text/x-python",
   "name": "python",
   "nbconvert_exporter": "python",
   "pygments_lexer": "ipython2",
   "version": "2.7.6"
  }
 },
 "nbformat": 4,
 "nbformat_minor": 5
}
